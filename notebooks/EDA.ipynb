{
 "cells": [
  {
   "cell_type": "markdown",
   "metadata": {},
   "source": [
    "# Diabetes Dataset - EDA\n",
    "\n",
    "## Opening and First look"
   ]
  },
  {
   "cell_type": "code",
   "execution_count": 1,
   "metadata": {},
   "outputs": [],
   "source": [
    "# Imports\n",
    "import pandas as pd\n",
    "import numpy as np\n",
    "import matplotlib.pyplot as plt\n",
    "import seaborn as sns"
   ]
  },
  {
   "cell_type": "code",
   "execution_count": 2,
   "metadata": {},
   "outputs": [],
   "source": [
    "dataset = pd.read_csv('../diabetes_unclean.csv')"
   ]
  },
  {
   "cell_type": "code",
   "execution_count": 3,
   "metadata": {},
   "outputs": [
    {
     "data": {
      "application/vnd.microsoft.datawrangler.viewer.v0+json": {
       "columns": [
        {
         "name": "index",
         "rawType": "int64",
         "type": "integer"
        },
        {
         "name": "ID",
         "rawType": "int64",
         "type": "integer"
        },
        {
         "name": "No_Pation",
         "rawType": "int64",
         "type": "integer"
        },
        {
         "name": "Gender",
         "rawType": "object",
         "type": "string"
        },
        {
         "name": "AGE",
         "rawType": "float64",
         "type": "float"
        },
        {
         "name": "Urea",
         "rawType": "float64",
         "type": "float"
        },
        {
         "name": "Cr",
         "rawType": "float64",
         "type": "float"
        },
        {
         "name": "HbA1c",
         "rawType": "float64",
         "type": "float"
        },
        {
         "name": "Chol",
         "rawType": "float64",
         "type": "float"
        },
        {
         "name": "TG",
         "rawType": "float64",
         "type": "float"
        },
        {
         "name": "HDL",
         "rawType": "float64",
         "type": "float"
        },
        {
         "name": "LDL",
         "rawType": "float64",
         "type": "float"
        },
        {
         "name": "VLDL",
         "rawType": "float64",
         "type": "float"
        },
        {
         "name": "BMI",
         "rawType": "float64",
         "type": "float"
        },
        {
         "name": "CLASS",
         "rawType": "object",
         "type": "string"
        }
       ],
       "conversionMethod": "pd.DataFrame",
       "ref": "1fc0f990-f340-4656-a7f3-d3d6b34f307a",
       "rows": [
        [
         "0",
         "502",
         "17975",
         "F",
         "50.0",
         "4.7",
         "46.0",
         "4.9",
         "4.2",
         "0.9",
         "2.4",
         "1.4",
         "0.5",
         "24.0",
         "N"
        ],
        [
         "1",
         "735",
         "34221",
         "M",
         "26.0",
         "4.5",
         "62.0",
         "4.9",
         "3.7",
         "1.4",
         "1.1",
         "2.1",
         "0.6",
         "23.0",
         "N"
        ],
        [
         "2",
         "420",
         "47975",
         "F",
         "50.0",
         "4.7",
         "46.0",
         "4.9",
         "4.2",
         "0.9",
         "2.4",
         "1.4",
         "0.5",
         "24.0",
         "N"
        ],
        [
         "3",
         "680",
         "87656",
         "F",
         "50.0",
         "4.7",
         "46.0",
         "4.9",
         "4.2",
         "0.9",
         "2.4",
         "1.4",
         "0.5",
         "24.0",
         "N"
        ],
        [
         "4",
         "504",
         "34223",
         "M",
         "33.0",
         "7.1",
         "46.0",
         "4.9",
         "4.9",
         "1.0",
         "0.8",
         "2.0",
         "0.4",
         "21.0",
         "N"
        ]
       ],
       "shape": {
        "columns": 14,
        "rows": 5
       }
      },
      "text/html": [
       "<div>\n",
       "<style scoped>\n",
       "    .dataframe tbody tr th:only-of-type {\n",
       "        vertical-align: middle;\n",
       "    }\n",
       "\n",
       "    .dataframe tbody tr th {\n",
       "        vertical-align: top;\n",
       "    }\n",
       "\n",
       "    .dataframe thead th {\n",
       "        text-align: right;\n",
       "    }\n",
       "</style>\n",
       "<table border=\"1\" class=\"dataframe\">\n",
       "  <thead>\n",
       "    <tr style=\"text-align: right;\">\n",
       "      <th></th>\n",
       "      <th>ID</th>\n",
       "      <th>No_Pation</th>\n",
       "      <th>Gender</th>\n",
       "      <th>AGE</th>\n",
       "      <th>Urea</th>\n",
       "      <th>Cr</th>\n",
       "      <th>HbA1c</th>\n",
       "      <th>Chol</th>\n",
       "      <th>TG</th>\n",
       "      <th>HDL</th>\n",
       "      <th>LDL</th>\n",
       "      <th>VLDL</th>\n",
       "      <th>BMI</th>\n",
       "      <th>CLASS</th>\n",
       "    </tr>\n",
       "  </thead>\n",
       "  <tbody>\n",
       "    <tr>\n",
       "      <th>0</th>\n",
       "      <td>502</td>\n",
       "      <td>17975</td>\n",
       "      <td>F</td>\n",
       "      <td>50.0</td>\n",
       "      <td>4.7</td>\n",
       "      <td>46.0</td>\n",
       "      <td>4.9</td>\n",
       "      <td>4.2</td>\n",
       "      <td>0.9</td>\n",
       "      <td>2.4</td>\n",
       "      <td>1.4</td>\n",
       "      <td>0.5</td>\n",
       "      <td>24.0</td>\n",
       "      <td>N</td>\n",
       "    </tr>\n",
       "    <tr>\n",
       "      <th>1</th>\n",
       "      <td>735</td>\n",
       "      <td>34221</td>\n",
       "      <td>M</td>\n",
       "      <td>26.0</td>\n",
       "      <td>4.5</td>\n",
       "      <td>62.0</td>\n",
       "      <td>4.9</td>\n",
       "      <td>3.7</td>\n",
       "      <td>1.4</td>\n",
       "      <td>1.1</td>\n",
       "      <td>2.1</td>\n",
       "      <td>0.6</td>\n",
       "      <td>23.0</td>\n",
       "      <td>N</td>\n",
       "    </tr>\n",
       "    <tr>\n",
       "      <th>2</th>\n",
       "      <td>420</td>\n",
       "      <td>47975</td>\n",
       "      <td>F</td>\n",
       "      <td>50.0</td>\n",
       "      <td>4.7</td>\n",
       "      <td>46.0</td>\n",
       "      <td>4.9</td>\n",
       "      <td>4.2</td>\n",
       "      <td>0.9</td>\n",
       "      <td>2.4</td>\n",
       "      <td>1.4</td>\n",
       "      <td>0.5</td>\n",
       "      <td>24.0</td>\n",
       "      <td>N</td>\n",
       "    </tr>\n",
       "    <tr>\n",
       "      <th>3</th>\n",
       "      <td>680</td>\n",
       "      <td>87656</td>\n",
       "      <td>F</td>\n",
       "      <td>50.0</td>\n",
       "      <td>4.7</td>\n",
       "      <td>46.0</td>\n",
       "      <td>4.9</td>\n",
       "      <td>4.2</td>\n",
       "      <td>0.9</td>\n",
       "      <td>2.4</td>\n",
       "      <td>1.4</td>\n",
       "      <td>0.5</td>\n",
       "      <td>24.0</td>\n",
       "      <td>N</td>\n",
       "    </tr>\n",
       "    <tr>\n",
       "      <th>4</th>\n",
       "      <td>504</td>\n",
       "      <td>34223</td>\n",
       "      <td>M</td>\n",
       "      <td>33.0</td>\n",
       "      <td>7.1</td>\n",
       "      <td>46.0</td>\n",
       "      <td>4.9</td>\n",
       "      <td>4.9</td>\n",
       "      <td>1.0</td>\n",
       "      <td>0.8</td>\n",
       "      <td>2.0</td>\n",
       "      <td>0.4</td>\n",
       "      <td>21.0</td>\n",
       "      <td>N</td>\n",
       "    </tr>\n",
       "  </tbody>\n",
       "</table>\n",
       "</div>"
      ],
      "text/plain": [
       "    ID  No_Pation Gender   AGE  Urea    Cr  HbA1c  Chol   TG  HDL  LDL  VLDL  \\\n",
       "0  502      17975      F  50.0   4.7  46.0    4.9   4.2  0.9  2.4  1.4   0.5   \n",
       "1  735      34221      M  26.0   4.5  62.0    4.9   3.7  1.4  1.1  2.1   0.6   \n",
       "2  420      47975      F  50.0   4.7  46.0    4.9   4.2  0.9  2.4  1.4   0.5   \n",
       "3  680      87656      F  50.0   4.7  46.0    4.9   4.2  0.9  2.4  1.4   0.5   \n",
       "4  504      34223      M  33.0   7.1  46.0    4.9   4.9  1.0  0.8  2.0   0.4   \n",
       "\n",
       "    BMI CLASS  \n",
       "0  24.0     N  \n",
       "1  23.0     N  \n",
       "2  24.0     N  \n",
       "3  24.0     N  \n",
       "4  21.0     N  "
      ]
     },
     "execution_count": 3,
     "metadata": {},
     "output_type": "execute_result"
    }
   ],
   "source": [
    "dataset.head()"
   ]
  },
  {
   "cell_type": "code",
   "execution_count": 4,
   "metadata": {},
   "outputs": [
    {
     "name": "stdout",
     "output_type": "stream",
     "text": [
      "['ID' 'No_Pation' 'Gender' 'AGE' 'Urea' 'Cr' 'HbA1c' 'Chol' 'TG' 'HDL'\n",
      " 'LDL' 'VLDL' 'BMI' 'CLASS']\n"
     ]
    }
   ],
   "source": [
    "print(dataset.columns.values)"
   ]
  },
  {
   "cell_type": "markdown",
   "metadata": {},
   "source": [
    "## Dataset features\n",
    "In the dataset we can access the following feature:\n",
    "\n",
    "- **Gender**: The gender of the individual (e.g., Male, Female).\n",
    "\n",
    "- **AGE**: The age of the individual in years.\n",
    "\n",
    "- **Urea**: The level of urea in the blood, indicating kidney function. \n",
    "\n",
    "- **Cr**: Creatinine level in the blood, used to assess kidney function.\n",
    "\n",
    "\n",
    "- **HbA1c**: Hemoglobin A1c percentage, a measure of average blood sugar levels over the past 2-3 months.\n",
    "\n",
    "- **Chol**: Total cholesterol level in the blood, measured in mg/dL, indicating lipid profile.\n",
    "\n",
    "- **TG**: Triglycerides level in the blood, measured in mg/dL, another component of the lipid profile.\n",
    "\n",
    "- **HDL**: High-Density Lipoprotein cholesterol, often referred to as \"good cholesterol,\" measured in mg/dL.\n",
    "\n",
    "- **LDL**: Low-Density Lipoprotein cholesterol, often referred to as \"bad cholesterol,\" measured in mg/dL.\n",
    "\n",
    "- **VLDL**: Very Low-Density Lipoprotein cholesterol, another type of \"bad cholesterol,\" measured in mg/dL.\n",
    "\n",
    "- **BMI**: Body Mass Index, a measure of body fat based on height and weight.\n",
    "\n",
    "- **CLASS**: The target variable indicating the presence or absence of diabetes (e.g., diabetic or non-diabetic).\n"
   ]
  },
  {
   "cell_type": "code",
   "execution_count": 5,
   "metadata": {},
   "outputs": [
    {
     "name": "stdout",
     "output_type": "stream",
     "text": [
      "<class 'pandas.core.frame.DataFrame'>\n",
      "RangeIndex: 1009 entries, 0 to 1008\n",
      "Data columns (total 14 columns):\n",
      " #   Column     Non-Null Count  Dtype  \n",
      "---  ------     --------------  -----  \n",
      " 0   ID         1009 non-null   int64  \n",
      " 1   No_Pation  1009 non-null   int64  \n",
      " 2   Gender     1009 non-null   object \n",
      " 3   AGE        1008 non-null   float64\n",
      " 4   Urea       1008 non-null   float64\n",
      " 5   Cr         1007 non-null   float64\n",
      " 6   HbA1c      1006 non-null   float64\n",
      " 7   Chol       1007 non-null   float64\n",
      " 8   TG         1007 non-null   float64\n",
      " 9   HDL        1008 non-null   float64\n",
      " 10  LDL        1007 non-null   float64\n",
      " 11  VLDL       1008 non-null   float64\n",
      " 12  BMI        1009 non-null   float64\n",
      " 13  CLASS      1009 non-null   object \n",
      "dtypes: float64(10), int64(2), object(2)\n",
      "memory usage: 110.5+ KB\n"
     ]
    }
   ],
   "source": [
    "dataset.info()\n"
   ]
  },
  {
   "cell_type": "code",
   "execution_count": 6,
   "metadata": {},
   "outputs": [
    {
     "data": {
      "application/vnd.microsoft.datawrangler.viewer.v0+json": {
       "columns": [
        {
         "name": "index",
         "rawType": "object",
         "type": "string"
        },
        {
         "name": "ID",
         "rawType": "float64",
         "type": "float"
        },
        {
         "name": "No_Pation",
         "rawType": "float64",
         "type": "float"
        },
        {
         "name": "AGE",
         "rawType": "float64",
         "type": "float"
        },
        {
         "name": "Urea",
         "rawType": "float64",
         "type": "float"
        },
        {
         "name": "Cr",
         "rawType": "float64",
         "type": "float"
        },
        {
         "name": "HbA1c",
         "rawType": "float64",
         "type": "float"
        },
        {
         "name": "Chol",
         "rawType": "float64",
         "type": "float"
        },
        {
         "name": "TG",
         "rawType": "float64",
         "type": "float"
        },
        {
         "name": "HDL",
         "rawType": "float64",
         "type": "float"
        },
        {
         "name": "LDL",
         "rawType": "float64",
         "type": "float"
        },
        {
         "name": "VLDL",
         "rawType": "float64",
         "type": "float"
        },
        {
         "name": "BMI",
         "rawType": "float64",
         "type": "float"
        }
       ],
       "conversionMethod": "pd.DataFrame",
       "ref": "f17e3066-2331-4e1e-8173-310e7ce6d8bf",
       "rows": [
        [
         "count",
         "1009.0",
         "1009.0",
         "1008.0",
         "1008.0",
         "1007.0",
         "1006.0",
         "1007.0",
         "1007.0",
         "1008.0",
         "1007.0",
         "1008.0",
         "1009.0"
        ],
        [
         "mean",
         "339.1615460852329",
         "271744.7760158573",
         "53.620039682539684",
         "5.131094246031746",
         "68.97318768619662",
         "8.284155069582505",
         "4.863872889771599",
         "2.3487686196623634",
         "1.2042162698412697",
         "2.610119165839126",
         "1.8505952380952382",
         "29.589910802775027"
        ],
        [
         "std",
         "239.73816874159922",
         "3365681.345427762",
         "8.740974928434246",
         "2.9311359057811552",
         "59.81329695902805",
         "2.5335761271076693",
         "1.297326389603986",
         "1.397486764711252",
         "0.6581583200367065",
         "1.1160946118517339",
         "3.6498588133454772",
         "4.9462458599543275"
        ],
        [
         "min",
         "1.0",
         "123.0",
         "25.0",
         "0.5",
         "6.0",
         "0.9",
         "0.0",
         "0.3",
         "0.2",
         "0.3",
         "0.1",
         "19.0"
        ],
        [
         "25%",
         "127.0",
         "24065.0",
         "51.0",
         "3.7",
         "48.0",
         "6.5",
         "4.0",
         "1.5",
         "0.9",
         "1.8",
         "0.7",
         "26.0"
        ],
        [
         "50%",
         "296.0",
         "34399.0",
         "55.0",
         "4.6",
         "60.0",
         "8.0",
         "4.8",
         "2.0",
         "1.1",
         "2.5",
         "0.9",
         "30.0"
        ],
        [
         "75%",
         "548.0",
         "45390.0",
         "59.0",
         "5.7",
         "73.0",
         "10.2",
         "5.6",
         "2.9",
         "1.3",
         "3.3",
         "1.5",
         "33.0"
        ],
        [
         "max",
         "800.0",
         "75435657.0",
         "79.0",
         "38.9",
         "800.0",
         "16.0",
         "10.3",
         "13.8",
         "9.9",
         "9.9",
         "35.0",
         "47.75"
        ]
       ],
       "shape": {
        "columns": 12,
        "rows": 8
       }
      },
      "text/html": [
       "<div>\n",
       "<style scoped>\n",
       "    .dataframe tbody tr th:only-of-type {\n",
       "        vertical-align: middle;\n",
       "    }\n",
       "\n",
       "    .dataframe tbody tr th {\n",
       "        vertical-align: top;\n",
       "    }\n",
       "\n",
       "    .dataframe thead th {\n",
       "        text-align: right;\n",
       "    }\n",
       "</style>\n",
       "<table border=\"1\" class=\"dataframe\">\n",
       "  <thead>\n",
       "    <tr style=\"text-align: right;\">\n",
       "      <th></th>\n",
       "      <th>ID</th>\n",
       "      <th>No_Pation</th>\n",
       "      <th>AGE</th>\n",
       "      <th>Urea</th>\n",
       "      <th>Cr</th>\n",
       "      <th>HbA1c</th>\n",
       "      <th>Chol</th>\n",
       "      <th>TG</th>\n",
       "      <th>HDL</th>\n",
       "      <th>LDL</th>\n",
       "      <th>VLDL</th>\n",
       "      <th>BMI</th>\n",
       "    </tr>\n",
       "  </thead>\n",
       "  <tbody>\n",
       "    <tr>\n",
       "      <th>count</th>\n",
       "      <td>1009.000000</td>\n",
       "      <td>1.009000e+03</td>\n",
       "      <td>1008.000000</td>\n",
       "      <td>1008.000000</td>\n",
       "      <td>1007.000000</td>\n",
       "      <td>1006.000000</td>\n",
       "      <td>1007.000000</td>\n",
       "      <td>1007.000000</td>\n",
       "      <td>1008.000000</td>\n",
       "      <td>1007.000000</td>\n",
       "      <td>1008.000000</td>\n",
       "      <td>1009.000000</td>\n",
       "    </tr>\n",
       "    <tr>\n",
       "      <th>mean</th>\n",
       "      <td>339.161546</td>\n",
       "      <td>2.717448e+05</td>\n",
       "      <td>53.620040</td>\n",
       "      <td>5.131094</td>\n",
       "      <td>68.973188</td>\n",
       "      <td>8.284155</td>\n",
       "      <td>4.863873</td>\n",
       "      <td>2.348769</td>\n",
       "      <td>1.204216</td>\n",
       "      <td>2.610119</td>\n",
       "      <td>1.850595</td>\n",
       "      <td>29.589911</td>\n",
       "    </tr>\n",
       "    <tr>\n",
       "      <th>std</th>\n",
       "      <td>239.738169</td>\n",
       "      <td>3.365681e+06</td>\n",
       "      <td>8.740975</td>\n",
       "      <td>2.931136</td>\n",
       "      <td>59.813297</td>\n",
       "      <td>2.533576</td>\n",
       "      <td>1.297326</td>\n",
       "      <td>1.397487</td>\n",
       "      <td>0.658158</td>\n",
       "      <td>1.116095</td>\n",
       "      <td>3.649859</td>\n",
       "      <td>4.946246</td>\n",
       "    </tr>\n",
       "    <tr>\n",
       "      <th>min</th>\n",
       "      <td>1.000000</td>\n",
       "      <td>1.230000e+02</td>\n",
       "      <td>25.000000</td>\n",
       "      <td>0.500000</td>\n",
       "      <td>6.000000</td>\n",
       "      <td>0.900000</td>\n",
       "      <td>0.000000</td>\n",
       "      <td>0.300000</td>\n",
       "      <td>0.200000</td>\n",
       "      <td>0.300000</td>\n",
       "      <td>0.100000</td>\n",
       "      <td>19.000000</td>\n",
       "    </tr>\n",
       "    <tr>\n",
       "      <th>25%</th>\n",
       "      <td>127.000000</td>\n",
       "      <td>2.406500e+04</td>\n",
       "      <td>51.000000</td>\n",
       "      <td>3.700000</td>\n",
       "      <td>48.000000</td>\n",
       "      <td>6.500000</td>\n",
       "      <td>4.000000</td>\n",
       "      <td>1.500000</td>\n",
       "      <td>0.900000</td>\n",
       "      <td>1.800000</td>\n",
       "      <td>0.700000</td>\n",
       "      <td>26.000000</td>\n",
       "    </tr>\n",
       "    <tr>\n",
       "      <th>50%</th>\n",
       "      <td>296.000000</td>\n",
       "      <td>3.439900e+04</td>\n",
       "      <td>55.000000</td>\n",
       "      <td>4.600000</td>\n",
       "      <td>60.000000</td>\n",
       "      <td>8.000000</td>\n",
       "      <td>4.800000</td>\n",
       "      <td>2.000000</td>\n",
       "      <td>1.100000</td>\n",
       "      <td>2.500000</td>\n",
       "      <td>0.900000</td>\n",
       "      <td>30.000000</td>\n",
       "    </tr>\n",
       "    <tr>\n",
       "      <th>75%</th>\n",
       "      <td>548.000000</td>\n",
       "      <td>4.539000e+04</td>\n",
       "      <td>59.000000</td>\n",
       "      <td>5.700000</td>\n",
       "      <td>73.000000</td>\n",
       "      <td>10.200000</td>\n",
       "      <td>5.600000</td>\n",
       "      <td>2.900000</td>\n",
       "      <td>1.300000</td>\n",
       "      <td>3.300000</td>\n",
       "      <td>1.500000</td>\n",
       "      <td>33.000000</td>\n",
       "    </tr>\n",
       "    <tr>\n",
       "      <th>max</th>\n",
       "      <td>800.000000</td>\n",
       "      <td>7.543566e+07</td>\n",
       "      <td>79.000000</td>\n",
       "      <td>38.900000</td>\n",
       "      <td>800.000000</td>\n",
       "      <td>16.000000</td>\n",
       "      <td>10.300000</td>\n",
       "      <td>13.800000</td>\n",
       "      <td>9.900000</td>\n",
       "      <td>9.900000</td>\n",
       "      <td>35.000000</td>\n",
       "      <td>47.750000</td>\n",
       "    </tr>\n",
       "  </tbody>\n",
       "</table>\n",
       "</div>"
      ],
      "text/plain": [
       "                ID     No_Pation          AGE         Urea           Cr  \\\n",
       "count  1009.000000  1.009000e+03  1008.000000  1008.000000  1007.000000   \n",
       "mean    339.161546  2.717448e+05    53.620040     5.131094    68.973188   \n",
       "std     239.738169  3.365681e+06     8.740975     2.931136    59.813297   \n",
       "min       1.000000  1.230000e+02    25.000000     0.500000     6.000000   \n",
       "25%     127.000000  2.406500e+04    51.000000     3.700000    48.000000   \n",
       "50%     296.000000  3.439900e+04    55.000000     4.600000    60.000000   \n",
       "75%     548.000000  4.539000e+04    59.000000     5.700000    73.000000   \n",
       "max     800.000000  7.543566e+07    79.000000    38.900000   800.000000   \n",
       "\n",
       "             HbA1c         Chol           TG          HDL          LDL  \\\n",
       "count  1006.000000  1007.000000  1007.000000  1008.000000  1007.000000   \n",
       "mean      8.284155     4.863873     2.348769     1.204216     2.610119   \n",
       "std       2.533576     1.297326     1.397487     0.658158     1.116095   \n",
       "min       0.900000     0.000000     0.300000     0.200000     0.300000   \n",
       "25%       6.500000     4.000000     1.500000     0.900000     1.800000   \n",
       "50%       8.000000     4.800000     2.000000     1.100000     2.500000   \n",
       "75%      10.200000     5.600000     2.900000     1.300000     3.300000   \n",
       "max      16.000000    10.300000    13.800000     9.900000     9.900000   \n",
       "\n",
       "              VLDL          BMI  \n",
       "count  1008.000000  1009.000000  \n",
       "mean      1.850595    29.589911  \n",
       "std       3.649859     4.946246  \n",
       "min       0.100000    19.000000  \n",
       "25%       0.700000    26.000000  \n",
       "50%       0.900000    30.000000  \n",
       "75%       1.500000    33.000000  \n",
       "max      35.000000    47.750000  "
      ]
     },
     "execution_count": 6,
     "metadata": {},
     "output_type": "execute_result"
    }
   ],
   "source": [
    "dataset.describe()"
   ]
  },
  {
   "cell_type": "markdown",
   "metadata": {},
   "source": [
    "# Data Cleaning and Preprocessing\n",
    "- Backup the original dataset\n",
    "- Check for Null values\n",
    "- Conversion to numerical values or one-hot encoding of the 'object' or 'string' types\n",
    "- Check for outliers "
   ]
  },
  {
   "cell_type": "code",
   "execution_count": 7,
   "metadata": {},
   "outputs": [],
   "source": [
    "ds_backup = dataset.copy()\n",
    "ds_backup.to_csv('diabetes_unclean_backup.csv', index=False)"
   ]
  },
  {
   "cell_type": "code",
   "execution_count": 8,
   "metadata": {},
   "outputs": [
    {
     "data": {
      "text/plain": [
       "ID           0\n",
       "No_Pation    0\n",
       "Gender       0\n",
       "AGE          1\n",
       "Urea         1\n",
       "Cr           2\n",
       "HbA1c        3\n",
       "Chol         2\n",
       "TG           2\n",
       "HDL          1\n",
       "LDL          2\n",
       "VLDL         1\n",
       "BMI          0\n",
       "CLASS        0\n",
       "dtype: int64"
      ]
     },
     "execution_count": 8,
     "metadata": {},
     "output_type": "execute_result"
    }
   ],
   "source": [
    "dataset.isnull().sum()"
   ]
  },
  {
   "cell_type": "markdown",
   "metadata": {},
   "source": [
    "### Null values \n",
    "Since the total entries of the dataset are 1009 and the Null values are around the 2% of the dataset it is possible to remove them (no fill required)\n"
   ]
  },
  {
   "cell_type": "code",
   "execution_count": 9,
   "metadata": {},
   "outputs": [],
   "source": [
    "dataset.dropna(inplace=True)"
   ]
  },
  {
   "cell_type": "markdown",
   "metadata": {},
   "source": [
    "### Conversion to numerical values"
   ]
  },
  {
   "cell_type": "code",
   "execution_count": 10,
   "metadata": {},
   "outputs": [
    {
     "data": {
      "text/plain": [
       "ID             int64\n",
       "No_Pation      int64\n",
       "Gender        object\n",
       "AGE          float64\n",
       "Urea         float64\n",
       "Cr           float64\n",
       "HbA1c        float64\n",
       "Chol         float64\n",
       "TG           float64\n",
       "HDL          float64\n",
       "LDL          float64\n",
       "VLDL         float64\n",
       "BMI          float64\n",
       "CLASS         object\n",
       "dtype: object"
      ]
     },
     "execution_count": 10,
     "metadata": {},
     "output_type": "execute_result"
    }
   ],
   "source": [
    "dataset.dtypes"
   ]
  },
  {
   "cell_type": "markdown",
   "metadata": {},
   "source": [
    "Columns to be converted or encoded:\n",
    "- Gender -> simple encoding [0 = 'M', 1 = 'F']\n",
    "- Class -> simple encoding [0 = non-positive, 1 = positive]\n"
   ]
  },
  {
   "cell_type": "code",
   "execution_count": 11,
   "metadata": {},
   "outputs": [
    {
     "data": {
      "text/plain": [
       "array(['F', 'M', 'f'], dtype=object)"
      ]
     },
     "execution_count": 11,
     "metadata": {},
     "output_type": "execute_result"
    }
   ],
   "source": [
    "dataset['Gender'].unique()"
   ]
  },
  {
   "cell_type": "markdown",
   "metadata": {},
   "source": [
    "As there are inconsistencies in the gender column we will perform a 'normalization' of the data and a conversion to numeric value \n",
    "```\n",
    "[0: Male, 1: Female]\n",
    "```"
   ]
  },
  {
   "cell_type": "code",
   "execution_count": 12,
   "metadata": {},
   "outputs": [],
   "source": [
    "# Repairing inconcistent values and Encoding of the 'Gender' column\n",
    "dataset['Gender'] = dataset['Gender'].str.upper().map({'M': 0, 'F': 1})"
   ]
  },
  {
   "cell_type": "code",
   "execution_count": 13,
   "metadata": {},
   "outputs": [
    {
     "data": {
      "text/plain": [
       "array(['N', 'N ', 'P', 'Y', 'Y '], dtype=object)"
      ]
     },
     "execution_count": 13,
     "metadata": {},
     "output_type": "execute_result"
    }
   ],
   "source": [
    "dataset['CLASS'].unique()"
   ]
  },
  {
   "cell_type": "markdown",
   "metadata": {},
   "source": [
    "As we can see there are several unique values with inconsistent syntax, since the possible value of the column `CLASS` are 'Diabetic' or 'Not Diabetic' we will encode it with the following syntax:\n",
    "```\n",
    "[Positive to diabetes: 1]\n",
    "[Negative to diabetes: 0]\n",
    "```"
   ]
  },
  {
   "cell_type": "code",
   "execution_count": 14,
   "metadata": {},
   "outputs": [],
   "source": [
    "# Encoding of the 'CLASS' column\n",
    "# 1st: remove unwanted spaces\n",
    "dataset['CLASS'] = dataset['CLASS'].str.strip()\n",
    "# 2nd: raise all values to upper case\n",
    "dataset['CLASS'] = dataset['CLASS'].str.upper()\n",
    "# 3rd: make the values consistent (e.g. P means positive as well as Y, instead, N means negative or simply No)\n",
    "dataset['CLASS'] = dataset['CLASS'].replace({'P': 'Y'})\n",
    "\n",
    "# check:\n",
    "# dataset['CLASS'].unique()\n",
    "\n",
    "# 4th: Encoding of the 'CLASS' column\n",
    "dataset['CLASS'] = dataset['CLASS'].map({'Y': 1, 'N': 0})"
   ]
  },
  {
   "cell_type": "markdown",
   "metadata": {},
   "source": [
    "### Unused columns\n",
    "Some columns are not relevant to predict diabetes. For example, columns like `ID` and `No_Pation` do not provide meaningful information for prediction and can be removed."
   ]
  },
  {
   "cell_type": "code",
   "execution_count": 15,
   "metadata": {},
   "outputs": [],
   "source": [
    "# removing unused columns\n",
    "# backup of the cleaned and encoded dataset\n",
    "ds_backup = dataset.copy()\n",
    "ds_backup.to_csv('diabetes_cleaned.csv', index=False)\n",
    "# removing unused columns\n",
    "dataset.drop(columns=['ID', 'No_Pation'], inplace=True)\n"
   ]
  },
  {
   "cell_type": "markdown",
   "metadata": {},
   "source": [
    "# Outliers"
   ]
  },
  {
   "cell_type": "code",
   "execution_count": 16,
   "metadata": {},
   "outputs": [
    {
     "data": {
      "application/vnd.microsoft.datawrangler.viewer.v0+json": {
       "columns": [
        {
         "name": "index",
         "rawType": "object",
         "type": "string"
        },
        {
         "name": "count",
         "rawType": "float64",
         "type": "float"
        },
        {
         "name": "mean",
         "rawType": "float64",
         "type": "float"
        },
        {
         "name": "std",
         "rawType": "float64",
         "type": "float"
        },
        {
         "name": "min",
         "rawType": "float64",
         "type": "float"
        },
        {
         "name": "25%",
         "rawType": "float64",
         "type": "float"
        },
        {
         "name": "50%",
         "rawType": "float64",
         "type": "float"
        },
        {
         "name": "75%",
         "rawType": "float64",
         "type": "float"
        },
        {
         "name": "max",
         "rawType": "float64",
         "type": "float"
        }
       ],
       "conversionMethod": "pd.DataFrame",
       "ref": "42839361-ca8a-4c8b-af88-7dc545638ddf",
       "rows": [
        [
         "Gender",
         "994.0",
         "0.4346076458752515",
         "0.4959549334912107",
         "0.0",
         "0.0",
         "0.0",
         "1.0",
         "1.0"
        ],
        [
         "AGE",
         "994.0",
         "53.605633802816904",
         "8.758101325199512",
         "25.0",
         "51.0",
         "55.0",
         "59.0",
         "79.0"
        ],
        [
         "Urea",
         "994.0",
         "5.129520120724346",
         "2.948245587533109",
         "0.5",
         "3.67",
         "4.6",
         "5.7",
         "38.9"
        ],
        [
         "Cr",
         "994.0",
         "68.74245472837022",
         "60.087901944828985",
         "6.0",
         "48.0",
         "60.0",
         "73.0",
         "800.0"
        ],
        [
         "HbA1c",
         "994.0",
         "8.286378269617707",
         "2.542578236830373",
         "0.9",
         "6.5",
         "8.0",
         "10.2",
         "16.0"
        ],
        [
         "Chol",
         "994.0",
         "4.859678068410463",
         "1.2996251287617728",
         "0.0",
         "4.0",
         "4.8",
         "5.6",
         "10.3"
        ],
        [
         "TG",
         "994.0",
         "2.3434708249496987",
         "1.3993430071341444",
         "0.3",
         "1.5",
         "2.0",
         "2.9",
         "13.8"
        ],
        [
         "HDL",
         "994.0",
         "1.2061871227364185",
         "0.6622115357054121",
         "0.2",
         "0.9",
         "1.1",
         "1.3",
         "9.9"
        ],
        [
         "LDL",
         "994.0",
         "2.610150905432596",
         "1.116132672382952",
         "0.3",
         "1.8",
         "2.5",
         "3.3",
         "9.9"
        ],
        [
         "VLDL",
         "994.0",
         "1.8590543259557344",
         "3.6741062735626504",
         "0.1",
         "0.7",
         "0.9",
         "1.5",
         "35.0"
        ],
        [
         "BMI",
         "994.0",
         "29.59861167002012",
         "4.963876729878638",
         "19.0",
         "26.0",
         "30.0",
         "33.0",
         "47.75"
        ],
        [
         "CLASS",
         "994.0",
         "0.8963782696177063",
         "0.3049226236531696",
         "0.0",
         "1.0",
         "1.0",
         "1.0",
         "1.0"
        ]
       ],
       "shape": {
        "columns": 8,
        "rows": 12
       }
      },
      "text/html": [
       "<div>\n",
       "<style scoped>\n",
       "    .dataframe tbody tr th:only-of-type {\n",
       "        vertical-align: middle;\n",
       "    }\n",
       "\n",
       "    .dataframe tbody tr th {\n",
       "        vertical-align: top;\n",
       "    }\n",
       "\n",
       "    .dataframe thead th {\n",
       "        text-align: right;\n",
       "    }\n",
       "</style>\n",
       "<table border=\"1\" class=\"dataframe\">\n",
       "  <thead>\n",
       "    <tr style=\"text-align: right;\">\n",
       "      <th></th>\n",
       "      <th>count</th>\n",
       "      <th>mean</th>\n",
       "      <th>std</th>\n",
       "      <th>min</th>\n",
       "      <th>25%</th>\n",
       "      <th>50%</th>\n",
       "      <th>75%</th>\n",
       "      <th>max</th>\n",
       "    </tr>\n",
       "  </thead>\n",
       "  <tbody>\n",
       "    <tr>\n",
       "      <th>Gender</th>\n",
       "      <td>994.0</td>\n",
       "      <td>0.434608</td>\n",
       "      <td>0.495955</td>\n",
       "      <td>0.0</td>\n",
       "      <td>0.00</td>\n",
       "      <td>0.0</td>\n",
       "      <td>1.0</td>\n",
       "      <td>1.00</td>\n",
       "    </tr>\n",
       "    <tr>\n",
       "      <th>AGE</th>\n",
       "      <td>994.0</td>\n",
       "      <td>53.605634</td>\n",
       "      <td>8.758101</td>\n",
       "      <td>25.0</td>\n",
       "      <td>51.00</td>\n",
       "      <td>55.0</td>\n",
       "      <td>59.0</td>\n",
       "      <td>79.00</td>\n",
       "    </tr>\n",
       "    <tr>\n",
       "      <th>Urea</th>\n",
       "      <td>994.0</td>\n",
       "      <td>5.129520</td>\n",
       "      <td>2.948246</td>\n",
       "      <td>0.5</td>\n",
       "      <td>3.67</td>\n",
       "      <td>4.6</td>\n",
       "      <td>5.7</td>\n",
       "      <td>38.90</td>\n",
       "    </tr>\n",
       "    <tr>\n",
       "      <th>Cr</th>\n",
       "      <td>994.0</td>\n",
       "      <td>68.742455</td>\n",
       "      <td>60.087902</td>\n",
       "      <td>6.0</td>\n",
       "      <td>48.00</td>\n",
       "      <td>60.0</td>\n",
       "      <td>73.0</td>\n",
       "      <td>800.00</td>\n",
       "    </tr>\n",
       "    <tr>\n",
       "      <th>HbA1c</th>\n",
       "      <td>994.0</td>\n",
       "      <td>8.286378</td>\n",
       "      <td>2.542578</td>\n",
       "      <td>0.9</td>\n",
       "      <td>6.50</td>\n",
       "      <td>8.0</td>\n",
       "      <td>10.2</td>\n",
       "      <td>16.00</td>\n",
       "    </tr>\n",
       "    <tr>\n",
       "      <th>Chol</th>\n",
       "      <td>994.0</td>\n",
       "      <td>4.859678</td>\n",
       "      <td>1.299625</td>\n",
       "      <td>0.0</td>\n",
       "      <td>4.00</td>\n",
       "      <td>4.8</td>\n",
       "      <td>5.6</td>\n",
       "      <td>10.30</td>\n",
       "    </tr>\n",
       "    <tr>\n",
       "      <th>TG</th>\n",
       "      <td>994.0</td>\n",
       "      <td>2.343471</td>\n",
       "      <td>1.399343</td>\n",
       "      <td>0.3</td>\n",
       "      <td>1.50</td>\n",
       "      <td>2.0</td>\n",
       "      <td>2.9</td>\n",
       "      <td>13.80</td>\n",
       "    </tr>\n",
       "    <tr>\n",
       "      <th>HDL</th>\n",
       "      <td>994.0</td>\n",
       "      <td>1.206187</td>\n",
       "      <td>0.662212</td>\n",
       "      <td>0.2</td>\n",
       "      <td>0.90</td>\n",
       "      <td>1.1</td>\n",
       "      <td>1.3</td>\n",
       "      <td>9.90</td>\n",
       "    </tr>\n",
       "    <tr>\n",
       "      <th>LDL</th>\n",
       "      <td>994.0</td>\n",
       "      <td>2.610151</td>\n",
       "      <td>1.116133</td>\n",
       "      <td>0.3</td>\n",
       "      <td>1.80</td>\n",
       "      <td>2.5</td>\n",
       "      <td>3.3</td>\n",
       "      <td>9.90</td>\n",
       "    </tr>\n",
       "    <tr>\n",
       "      <th>VLDL</th>\n",
       "      <td>994.0</td>\n",
       "      <td>1.859054</td>\n",
       "      <td>3.674106</td>\n",
       "      <td>0.1</td>\n",
       "      <td>0.70</td>\n",
       "      <td>0.9</td>\n",
       "      <td>1.5</td>\n",
       "      <td>35.00</td>\n",
       "    </tr>\n",
       "    <tr>\n",
       "      <th>BMI</th>\n",
       "      <td>994.0</td>\n",
       "      <td>29.598612</td>\n",
       "      <td>4.963877</td>\n",
       "      <td>19.0</td>\n",
       "      <td>26.00</td>\n",
       "      <td>30.0</td>\n",
       "      <td>33.0</td>\n",
       "      <td>47.75</td>\n",
       "    </tr>\n",
       "    <tr>\n",
       "      <th>CLASS</th>\n",
       "      <td>994.0</td>\n",
       "      <td>0.896378</td>\n",
       "      <td>0.304923</td>\n",
       "      <td>0.0</td>\n",
       "      <td>1.00</td>\n",
       "      <td>1.0</td>\n",
       "      <td>1.0</td>\n",
       "      <td>1.00</td>\n",
       "    </tr>\n",
       "  </tbody>\n",
       "</table>\n",
       "</div>"
      ],
      "text/plain": [
       "        count       mean        std   min    25%   50%   75%     max\n",
       "Gender  994.0   0.434608   0.495955   0.0   0.00   0.0   1.0    1.00\n",
       "AGE     994.0  53.605634   8.758101  25.0  51.00  55.0  59.0   79.00\n",
       "Urea    994.0   5.129520   2.948246   0.5   3.67   4.6   5.7   38.90\n",
       "Cr      994.0  68.742455  60.087902   6.0  48.00  60.0  73.0  800.00\n",
       "HbA1c   994.0   8.286378   2.542578   0.9   6.50   8.0  10.2   16.00\n",
       "Chol    994.0   4.859678   1.299625   0.0   4.00   4.8   5.6   10.30\n",
       "TG      994.0   2.343471   1.399343   0.3   1.50   2.0   2.9   13.80\n",
       "HDL     994.0   1.206187   0.662212   0.2   0.90   1.1   1.3    9.90\n",
       "LDL     994.0   2.610151   1.116133   0.3   1.80   2.5   3.3    9.90\n",
       "VLDL    994.0   1.859054   3.674106   0.1   0.70   0.9   1.5   35.00\n",
       "BMI     994.0  29.598612   4.963877  19.0  26.00  30.0  33.0   47.75\n",
       "CLASS   994.0   0.896378   0.304923   0.0   1.00   1.0   1.0    1.00"
      ]
     },
     "execution_count": 16,
     "metadata": {},
     "output_type": "execute_result"
    }
   ],
   "source": [
    "dataset.describe().T"
   ]
  },
  {
   "cell_type": "markdown",
   "metadata": {},
   "source": [
    "## Outliers detenction\n",
    "As shown in the table above, the features **‘Urea’, ‘Cr’, ‘TG’, ‘HDL’,** and **‘VLDL’** shows high values of $\\sigma$. This suggests the need for further investigation to identify potential outliers, particularly extreme values or data points that may not be consistent with human physiological ranges.\n",
    "\n",
    "### Features Requiring Attention for Outliers  \n",
    "\n",
    "The following features exhibit potential outliers based on their maximum values, which significantly deviate from the mean and expected physiological ranges:  \n",
    "\n",
    "- **Urea**: Maximum value **38.9**, while the normal range is typically **2.5 - 7.5 mmol/L**.  \n",
    "- **Cr (Creatinine)**: Maximum value **800**, whereas normal levels are **50 - 110 µmol/L**. Extremely high values may indicate renal dysfunction, extreme cases or data entry errors. With a high level of certainty, we can consider values equal to 800 as cases of data clipping\n",
    "- **TG (Triglycerides)**: Maximum value **13.8**, significantly above the normal range **< 1.7 mmol/L**. Values above **10 mmol/L** are considered critically high or not likely.\n",
    "- **HDL (High-Density Lipoprotein Cholesterol)**: Maximum value **9.9**, while the normal range is **1.0 - 2.0 mmol/L**.  \n",
    "- **VLDL (Very Low-Density Lipoprotein Cholesterol)**: Maximum value **35.0**, whereas normal levels are around **0.1 - 1.0 mmol/L**.  \n",
    "\n",
    "These features should be carefully examined for potential extreme values or measurement errors before proceeding with further analysis.\n",
    "\n",
    "  *Diclaimer*: The reference values provided are not intended for medical purposes and were obtained through online research. They are not guaranteed to be reliable or representative of the sample in question, as this is not the primary objective of the project.\n",
    "\n"
   ]
  },
  {
   "cell_type": "code",
   "execution_count": null,
   "metadata": {},
   "outputs": [
    {
     "data": {
      "image/png": "[encoded data removed]",
      "text/plain": [
       "<Figure size 1500x800 with 1 Axes>"
      ]
     },
     "metadata": {},
     "output_type": "display_data"
    }
   ],
   "source": [
    "# Boxplot for outlier detection\n",
    "\n",
    "# Imposta la dimensione della figura\n",
    "plt.figure(figsize=(15, 8))\n",
    "\n",
    "# Crea il boxplot per tutte le colonne numeriche\n",
    "data = dataset.drop(columns=['Gender', 'AGE', 'CLASS']) # remove categorical columns\n",
    "sns.boxplot(data=data, orient='v')\n",
    "\n",
    "# Titolo e labels\n",
    "plt.title(\"Feature Distribution and Outliers\", fontsize=14)\n",
    "plt.xlabel(\"Feature\")\n",
    "plt.ylabel(\"Features - normalized 0 to 1\")\n",
    "\n",
    "# Mostra il grafico\n",
    "plt.show()"
   ]
  },
  {
   "cell_type": "code",
   "execution_count": 25,
   "metadata": {},
   "outputs": [
    {
     "data": {
      "image/png": "[encoded data removed]",
      "text/plain": [
       "<Figure size 1500x800 with 1 Axes>"
      ]
     },
     "metadata": {},
     "output_type": "display_data"
    }
   ],
   "source": [
    "# fig\n",
    "plt.figure(figsize=(15, 8))\n",
    "\n",
    "# features to show\n",
    "features = ['Urea', 'Cr', 'TG', 'HDL', 'VLDL']\n",
    "# overlapping graph -> more features in the dame plot\n",
    "for feature in features:\n",
    "    sns.kdeplot(data=data[feature], label=feature, fill=True, alpha=0.5) \n",
    "\n",
    "# Titolo e labels\n",
    "plt.title(\"Overlapping Distributions of Features for Outlier Detection\", fontsize=14)\n",
    "plt.xlabel(\"Normalized Value\")\n",
    "plt.ylabel(\"Density\")\n",
    "plt.legend(title=\"Features\")\n",
    "\n",
    "# Mostra il grafico\n",
    "plt.show()"
   ]
  },
  {
   "cell_type": "code",
   "execution_count": null,
   "metadata": {},
   "outputs": [],
   "source": []
  }
 ],
 "metadata": {
  "kernelspec": {
   "display_name": "eda_env",
   "language": "python",
   "name": "python3"
  },
  "language_info": {
   "codemirror_mode": {
    "name": "ipython",
    "version": 3
   },
   "file_extension": ".py",
   "mimetype": "text/x-python",
   "name": "python",
   "nbconvert_exporter": "python",
   "pygments_lexer": "ipython3",
   "version": "3.12.4"
  }
 },
 "nbformat": 4,
 "nbformat_minor": 2
}
